{
 "cells": [
  {
   "cell_type": "markdown",
   "id": "3468ba28-12fe-4cd4-9df2-80cee92eba96",
   "metadata": {},
   "source": [
    "Q.1. calculate compound interest annually for p, n, r\n",
    "\n",
    "$ A = P * (1+R/100) ^ N $\n",
    "\n",
    "\n",
    "1. P is principal in INR\n",
    "2. N is number of years\n",
    "3. R is rate of interest\n",
    "\n",
    "$ I = A - P $\n",
    "\n",
    "\n"
   ]
  },
  {
   "cell_type": "code",
   "execution_count": null,
   "id": "395fd3c3-efa1-4243-a929-a0830166c219",
   "metadata": {},
   "outputs": [],
   "source": [
    "# take input p , n and r from user\n",
    "\n",
    "P = float(input(\"please enter Principal in INR : \")) \n",
    "n = float(input(\"please enter number of years : \")) \n",
    "R = float(input(\"Enter rate of interest in %p.a. : \"))\n",
    "\n",
    "\n",
    "#Calculate the amount of compound interest.\n",
    "a = p * (1 + r/100) **n\n",
    "\n",
    "#Calculate interest amount \n",
    "i = a - p\n",
    "\n",
    "#print the compound interest and amount \n",
    "print (f\"comound intetest : {i:.2f} INR\")\n",
    "print (f\"amount amount : {a:.2f} INR\")\n"
   ]
  },
  {
   "cell_type": "markdown",
   "id": "78da7bb5-a7b9-4e24-8a69-f1eb2e02e5dc",
   "metadata": {},
   "source": [
    "Calculate the EMI in given principal in INR , n in years , r is rate of interest\n"
   ]
  },
  {
   "attachments": {
    "5a8e96c6-c4f1-4beb-9d31-56526c87f08e.png": {
     "image/png": "[encoded data removed]"
    },
    "ddfc5566-b65f-4b07-8712-0fdb4de62d44.png": {
     "image/png": "[encoded data removed]"
    }
   },
   "cell_type": "markdown",
   "id": "b5a857c6-8e7d-43ef-bc58-2ffbebb7ae5c",
   "metadata": {},
   "source": [
    "![image.png](attachment:ddfc5566-b65f-4b07-8712-0fdb4de62d44.png)![image.png](attachment:5a8e96c6-c4f1-4beb-9d31-56526c87f08e.png)"
   ]
  },
  {
   "cell_type": "code",
   "execution_count": 6,
   "id": "97c15a47-1493-450a-a7a1-879b8e98632b",
   "metadata": {},
   "outputs": [
    {
     "name": "stdin",
     "output_type": "stream",
     "text": [
      "Enter Principal in INR :  5_00_000\n",
      "Enter numbers of years :  5\n",
      "Rate of interest in %p.a. :  10.1\n"
     ]
    },
    {
     "name": "stdout",
     "output_type": "stream",
     "text": [
      "EMI : 10,648 INR\n",
      "Amount to be paid : 638,888 INR\n"
     ]
    },
    {
     "ename": "ValueError",
     "evalue": "Invalid format specifier ',0f' for object of type 'float'",
     "output_type": "error",
     "traceback": [
      "\u001b[1;31m---------------------------------------------------------------------------\u001b[0m",
      "\u001b[1;31mValueError\u001b[0m                                Traceback (most recent call last)",
      "Cell \u001b[1;32mIn[6], line 25\u001b[0m\n\u001b[0;32m     23\u001b[0m \u001b[38;5;28mprint\u001b[39m(\u001b[38;5;124mf\u001b[39m\u001b[38;5;124m\"\u001b[39m\u001b[38;5;124mEMI : \u001b[39m\u001b[38;5;132;01m{\u001b[39;00memi\u001b[38;5;132;01m:\u001b[39;00m\u001b[38;5;124m,.0f\u001b[39m\u001b[38;5;132;01m}\u001b[39;00m\u001b[38;5;124m INR\u001b[39m\u001b[38;5;124m\"\u001b[39m)\n\u001b[0;32m     24\u001b[0m \u001b[38;5;28mprint\u001b[39m(\u001b[38;5;124mf\u001b[39m\u001b[38;5;124m\"\u001b[39m\u001b[38;5;124mAmount to be paid : \u001b[39m\u001b[38;5;132;01m{\u001b[39;00mamt\u001b[38;5;132;01m:\u001b[39;00m\u001b[38;5;124m,.0f\u001b[39m\u001b[38;5;132;01m}\u001b[39;00m\u001b[38;5;124m INR\u001b[39m\u001b[38;5;124m\"\u001b[39m)\n\u001b[1;32m---> 25\u001b[0m \u001b[38;5;28mprint\u001b[39m(\u001b[38;5;124mf\u001b[39m\u001b[38;5;124m\"\u001b[39m\u001b[38;5;124mInterest : \u001b[39m\u001b[38;5;132;01m{\u001b[39;00mi\u001b[38;5;132;01m:\u001b[39;00m\u001b[38;5;124m,0f\u001b[39m\u001b[38;5;132;01m}\u001b[39;00m\u001b[38;5;124mINR\u001b[39m\u001b[38;5;124m\"\u001b[39m)\n",
      "\u001b[1;31mValueError\u001b[0m: Invalid format specifier ',0f' for object of type 'float'"
     ]
    }
   ],
   "source": [
    "# take input from user p,n,r\n",
    "p = float(input(\"Enter Principal in INR : \" ))\n",
    "n = float (input(\"Enter numbers of years : \"))\n",
    "r = float (input(\"Rate of interest in %p.a. : \"))\n",
    "\n",
    "# convert years to months\n",
    "n = n * 12\n",
    "\n",
    "# calculate rate of interest in per month\n",
    "r =  r/1200\n",
    "\n",
    "# calculate EMI\n",
    "x = (1+r)**n\n",
    "emi = p*r*x/(x-1)\n",
    "\n",
    "# Amount for loan\n",
    "amt = emi * n\n",
    "\n",
    "# Interest \n",
    "i = amt - p\n",
    "\n",
    "# print the emi, amount and interest\n",
    "print(f\"EMI : {emi:,.0f} INR\")\n",
    "print(f\"Amount to be paid : {amt:,.0f} INR\")\n",
    "print(f\"Interest : {i:,0f}INR\")\n"
   ]
  },
  {
   "cell_type": "markdown",
   "id": "9187c1a9-5a94-463a-a300-ed49574da5c0",
   "metadata": {},
   "source": [
    "# List Datatype\n",
    "\n",
    "list - [value1, value2, value3,.....]\n"
   ]
  },
  {
   "cell_type": "code",
   "execution_count": 7,
   "id": "f42426e9-3bce-4059-9940-f44d6f9c0dec",
   "metadata": {},
   "outputs": [
    {
     "name": "stdout",
     "output_type": "stream",
     "text": [
      "[103, 'rahul', 'rahul@test.com', 'Sales', False]\n",
      "<class 'list'>\n"
     ]
    }
   ],
   "source": [
    "emp = [103, \"rahul\", \"rahul@test.com\", \"Sales\", False]\n",
    "print (emp)\n",
    "print (type(emp))\n"
   ]
  },
  {
   "cell_type": "code",
   "execution_count": 9,
   "id": "2fbb8a1c-19fa-4da9-9162-67037299e9c3",
   "metadata": {},
   "outputs": [
    {
     "data": {
      "text/plain": [
       "'rahul@test.com'"
      ]
     },
     "execution_count": 9,
     "metadata": {},
     "output_type": "execute_result"
    }
   ],
   "source": [
    "emp [2]"
   ]
  },
  {
   "cell_type": "code",
   "execution_count": 10,
   "id": "a8b4f6cc-cfcc-4bf5-9f43-936ea96d781a",
   "metadata": {},
   "outputs": [
    {
     "data": {
      "text/plain": [
       "'Sales'"
      ]
     },
     "execution_count": 10,
     "metadata": {},
     "output_type": "execute_result"
    }
   ],
   "source": [
    "emp [3]"
   ]
  },
  {
   "cell_type": "code",
   "execution_count": 11,
   "id": "7dca7ea7-2456-43f6-a807-bb12440b1cd0",
   "metadata": {},
   "outputs": [
    {
     "data": {
      "text/plain": [
       "103"
      ]
     },
     "execution_count": 11,
     "metadata": {},
     "output_type": "execute_result"
    }
   ],
   "source": [
    "emp [0]"
   ]
  },
  {
   "cell_type": "markdown",
   "id": "06ca4b22-2a6f-445a-b19e-29b5039a18e3",
   "metadata": {},
   "source": [
    "### modify existing element\n"
   ]
  },
  {
   "cell_type": "code",
   "execution_count": 12,
   "id": "1be8482b-092a-4e01-97ca-f9206e90f01a",
   "metadata": {},
   "outputs": [
    {
     "data": {
      "text/plain": [
       "'rahul@test.com'"
      ]
     },
     "execution_count": 12,
     "metadata": {},
     "output_type": "execute_result"
    }
   ],
   "source": [
    "emp [2]"
   ]
  },
  {
   "cell_type": "code",
   "execution_count": 13,
   "id": "e5dc2ae8-23d5-4f67-a473-748b6651fe4f",
   "metadata": {},
   "outputs": [],
   "source": [
    "emp [2] = \"rahul12@etlhive.com\""
   ]
  },
  {
   "cell_type": "code",
   "execution_count": 14,
   "id": "a59577ae-cbb0-4a6d-9dfd-3e776c90e66c",
   "metadata": {},
   "outputs": [
    {
     "data": {
      "text/plain": [
       "[103, 'rahul', 'rahul12@etlhive.com', 'Sales', False]"
      ]
     },
     "execution_count": 14,
     "metadata": {},
     "output_type": "execute_result"
    }
   ],
   "source": [
    "emp"
   ]
  },
  {
   "cell_type": "code",
   "execution_count": 15,
   "id": "b1772118-74e4-4ccf-b384-4195b6b9285c",
   "metadata": {},
   "outputs": [
    {
     "data": {
      "text/plain": [
       "'Sales'"
      ]
     },
     "execution_count": 15,
     "metadata": {},
     "output_type": "execute_result"
    }
   ],
   "source": [
    "emp[3]"
   ]
  },
  {
   "cell_type": "code",
   "execution_count": 16,
   "id": "92fe5d38-83c2-48da-aad0-70c726ff44e9",
   "metadata": {},
   "outputs": [],
   "source": [
    "emp[3]= \"Data Analyst\""
   ]
  },
  {
   "cell_type": "code",
   "execution_count": 17,
   "id": "e35cc893-c9c3-4adc-a0d6-e23bd5f52092",
   "metadata": {},
   "outputs": [
    {
     "data": {
      "text/plain": [
       "[103, 'rahul', 'rahul12@etlhive.com', 'Data Analyst', False]"
      ]
     },
     "execution_count": 17,
     "metadata": {},
     "output_type": "execute_result"
    }
   ],
   "source": [
    "emp"
   ]
  },
  {
   "cell_type": "code",
   "execution_count": 18,
   "id": "27eca720-fd36-4c7e-8cf0-b83dc2081bf7",
   "metadata": {},
   "outputs": [
    {
     "data": {
      "text/plain": [
       "False"
      ]
     },
     "execution_count": 18,
     "metadata": {},
     "output_type": "execute_result"
    }
   ],
   "source": [
    "emp [-1]"
   ]
  },
  {
   "cell_type": "code",
   "execution_count": 19,
   "id": "f9fe67a2-547b-408a-8a99-f3739826b527",
   "metadata": {},
   "outputs": [
    {
     "data": {
      "text/plain": [
       "'Data Analyst'"
      ]
     },
     "execution_count": 19,
     "metadata": {},
     "output_type": "execute_result"
    }
   ],
   "source": [
    "emp [-2]"
   ]
  },
  {
   "cell_type": "code",
   "execution_count": 20,
   "id": "eeb8038a-2b55-4e6c-ac26-4caddb2d1593",
   "metadata": {},
   "outputs": [
    {
     "data": {
      "text/plain": [
       "'rahul12@etlhive.com'"
      ]
     },
     "execution_count": 20,
     "metadata": {},
     "output_type": "execute_result"
    }
   ],
   "source": [
    "emp [-3]"
   ]
  },
  {
   "cell_type": "code",
   "execution_count": 21,
   "id": "e4acf7ab-ba79-4f6e-9c8e-0b4d219758c1",
   "metadata": {},
   "outputs": [
    {
     "data": {
      "text/plain": [
       "'rahul'"
      ]
     },
     "execution_count": 21,
     "metadata": {},
     "output_type": "execute_result"
    }
   ],
   "source": [
    "emp [-4]"
   ]
  },
  {
   "cell_type": "code",
   "execution_count": 22,
   "id": "f84feef6-6d38-405c-a84d-06c43e320c39",
   "metadata": {},
   "outputs": [
    {
     "data": {
      "text/plain": [
       "103"
      ]
     },
     "execution_count": 22,
     "metadata": {},
     "output_type": "execute_result"
    }
   ],
   "source": [
    "emp [-5]"
   ]
  },
  {
   "cell_type": "code",
   "execution_count": 23,
   "id": "c6f13197-cc4c-4133-98d8-8c61a0cd9a3f",
   "metadata": {},
   "outputs": [],
   "source": [
    "emp [-1] = True\n"
   ]
  },
  {
   "cell_type": "code",
   "execution_count": 24,
   "id": "1bbf445a-41a9-4949-a2b2-0cf99642acb5",
   "metadata": {},
   "outputs": [
    {
     "data": {
      "text/plain": [
       "[103, 'rahul', 'rahul12@etlhive.com', 'Data Analyst', True]"
      ]
     },
     "execution_count": 24,
     "metadata": {},
     "output_type": "execute_result"
    }
   ],
   "source": [
    "emp"
   ]
  },
  {
   "cell_type": "code",
   "execution_count": 25,
   "id": "0c417518-f1fd-44dd-bd1d-6b6785e4a2fd",
   "metadata": {},
   "outputs": [
    {
     "name": "stdout",
     "output_type": "stream",
     "text": [
      "[103, 103, 'Rahul', False, 'Rahul', 10.34]\n"
     ]
    }
   ],
   "source": [
    "a = [103, 103, \"Rahul\", False, \"Rahul\", 10.34]\n",
    "print (a)"
   ]
  },
  {
   "cell_type": "code",
   "execution_count": 26,
   "id": "f0af3a3e-3d5c-46f6-9b7e-88ed8f16ed57",
   "metadata": {},
   "outputs": [
    {
     "data": {
      "text/plain": [
       "103"
      ]
     },
     "execution_count": 26,
     "metadata": {},
     "output_type": "execute_result"
    }
   ],
   "source": [
    "a[0]\n"
   ]
  },
  {
   "cell_type": "code",
   "execution_count": 27,
   "id": "a622fb85-8b03-4f6f-8a9b-a18d84e8e906",
   "metadata": {},
   "outputs": [
    {
     "data": {
      "text/plain": [
       "103"
      ]
     },
     "execution_count": 27,
     "metadata": {},
     "output_type": "execute_result"
    }
   ],
   "source": [
    "a[1]"
   ]
  },
  {
   "cell_type": "code",
   "execution_count": 28,
   "id": "b5eb8d26-eb68-4ef4-b210-1d4b70627898",
   "metadata": {},
   "outputs": [
    {
     "data": {
      "text/plain": [
       "False"
      ]
     },
     "execution_count": 28,
     "metadata": {},
     "output_type": "execute_result"
    }
   ],
   "source": [
    "a[3]"
   ]
  },
  {
   "cell_type": "markdown",
   "id": "7ce2d98e-af64-4b55-8dcd-91877c3a1a37",
   "metadata": {},
   "source": [
    "List slicing\n"
   ]
  },
  {
   "cell_type": "markdown",
   "id": "c198faf3-7cb9-45bb-8363-68d8ed6cd013",
   "metadata": {},
   "source": [
    "list[start : stop + 1]"
   ]
  },
  {
   "cell_type": "code",
   "execution_count": 29,
   "id": "8f4e2068-21e1-407b-9828-4e04f32d85cb",
   "metadata": {},
   "outputs": [
    {
     "data": {
      "text/plain": [
       "['rahul', 'rahul12@etlhive.com']"
      ]
     },
     "execution_count": 29,
     "metadata": {},
     "output_type": "execute_result"
    }
   ],
   "source": [
    "emp [1 :3]"
   ]
  },
  {
   "cell_type": "code",
   "execution_count": 30,
   "id": "fbef4633-937f-4c44-9617-c69b4f053636",
   "metadata": {},
   "outputs": [
    {
     "data": {
      "text/plain": [
       "[103, 'rahul', 'rahul12@etlhive.com', 'Data Analyst']"
      ]
     },
     "execution_count": 30,
     "metadata": {},
     "output_type": "execute_result"
    }
   ],
   "source": [
    "emp [0 : 4]"
   ]
  },
  {
   "cell_type": "markdown",
   "id": "ca859857-b0f4-4af0-b725-72ccdfa5b52c",
   "metadata": {},
   "source": [
    "# in a list slice start value is zero and stop value is last element inside the list\n",
    "\n"
   ]
  },
  {
   "cell_type": "markdown",
   "id": "67f0e92c-1bb0-443a-8383-31e75515d213",
   "metadata": {},
   "source": [
    "# string data type is immutable \n"
   ]
  },
  {
   "cell_type": "code",
   "execution_count": 33,
   "id": "ac62c624-4950-4583-ba63-2391be2260d7",
   "metadata": {},
   "outputs": [
    {
     "name": "stdout",
     "output_type": "stream",
     "text": [
      "<class 'str'>\n"
     ]
    }
   ],
   "source": [
    "a = \"ETLHIVE\"\n",
    "print(type(a))"
   ]
  },
  {
   "cell_type": "code",
   "execution_count": 34,
   "id": "86ef49fe-b2ff-4a6c-999e-58a2d21ed7b8",
   "metadata": {},
   "outputs": [
    {
     "data": {
      "text/plain": [
       "'E'"
      ]
     },
     "execution_count": 34,
     "metadata": {},
     "output_type": "execute_result"
    }
   ],
   "source": [
    "a[0]"
   ]
  },
  {
   "cell_type": "markdown",
   "id": "b35f505d-c066-4df2-ac80-decdc7ffc2d4",
   "metadata": {},
   "source": [
    "LISt Related Function\n"
   ]
  },
  {
   "cell_type": "code",
   "execution_count": 2,
   "id": "7034421d-8665-452d-bdd3-c031fd72d6c0",
   "metadata": {},
   "outputs": [
    {
     "name": "stdout",
     "output_type": "stream",
     "text": [
      "[12, 13, 14, 15, 11, 12, 113, 23]\n"
     ]
    }
   ],
   "source": [
    "b = [12, 13, 14, 15, 11, 12, 113, 23]\n",
    "print(b)"
   ]
  },
  {
   "cell_type": "code",
   "execution_count": 3,
   "id": "cb87fba2-9297-4657-b081-e3bcad7dcad3",
   "metadata": {},
   "outputs": [
    {
     "data": {
      "text/plain": [
       "8"
      ]
     },
     "execution_count": 3,
     "metadata": {},
     "output_type": "execute_result"
    }
   ],
   "source": [
    "# count number of element inside, list, tuple or string\n",
    "len (b)"
   ]
  },
  {
   "cell_type": "code",
   "execution_count": 4,
   "id": "d98a9943-5c87-45d4-a235-558ff8466ded",
   "metadata": {},
   "outputs": [
    {
     "data": {
      "text/plain": [
       "7"
      ]
     },
     "execution_count": 4,
     "metadata": {},
     "output_type": "execute_result"
    }
   ],
   "source": [
    "a = \"Ethlive\"\n",
    "len (a)"
   ]
  },
  {
   "cell_type": "code",
   "execution_count": 5,
   "id": "1fe68da9-ac0f-4fb0-85e2-96231287419a",
   "metadata": {},
   "outputs": [
    {
     "data": {
      "text/plain": [
       "213"
      ]
     },
     "execution_count": 5,
     "metadata": {},
     "output_type": "execute_result"
    }
   ],
   "source": [
    "# add all the numbers use same function\n",
    "sum (b)"
   ]
  },
  {
   "cell_type": "code",
   "execution_count": 6,
   "id": "8736ba4f-b876-400f-93dd-fe06fc2d7c01",
   "metadata": {},
   "outputs": [
    {
     "data": {
      "text/plain": [
       "113"
      ]
     },
     "execution_count": 6,
     "metadata": {},
     "output_type": "execute_result"
    }
   ],
   "source": [
    "max(b)"
   ]
  },
  {
   "cell_type": "code",
   "execution_count": 7,
   "id": "bae5729e-c091-499a-9ed8-4970e163b67e",
   "metadata": {},
   "outputs": [
    {
     "data": {
      "text/plain": [
       "11"
      ]
     },
     "execution_count": 7,
     "metadata": {},
     "output_type": "execute_result"
    }
   ],
   "source": [
    "min(b)"
   ]
  },
  {
   "cell_type": "code",
   "execution_count": 11,
   "id": "8bd9ac22-8d7e-43aa-a3b9-f18168ca0a9a",
   "metadata": {},
   "outputs": [
    {
     "name": "stdout",
     "output_type": "stream",
     "text": [
      "26.625\n"
     ]
    }
   ],
   "source": [
    "avg = sum (b) /len (b)\n",
    "print (avg)"
   ]
  },
  {
   "cell_type": "markdown",
   "id": "08a76a95-1c42-4809-94cf-4fca8ed137c3",
   "metadata": {},
   "source": [
    "# adding single element inside the list\n",
    "\n",
    "1. list.append (value) - Add the element at end of list\n",
    "2. list.insert(index, value) - add element at a particular index\n"
   ]
  },
  {
   "cell_type": "code",
   "execution_count": 15,
   "id": "dd407621-9dbc-49c5-bc9a-3930ce64992d",
   "metadata": {},
   "outputs": [
    {
     "name": "stdout",
     "output_type": "stream",
     "text": [
      "['Rahul', 'More', 28, 'rahul.more1@test.com', 'Cricket', 84.5]\n",
      "<class 'list'>\n"
     ]
    }
   ],
   "source": [
    "s = [\"Rahul\", \"More\", 28, 'rahul.more1@test.com', \"Cricket\", 84.5]\n",
    "print(s)\n",
    "print (type(s))\n"
   ]
  },
  {
   "cell_type": "code",
   "execution_count": 18,
   "id": "7d8329fc-3101-418b-8de7-e12d0bdeb12b",
   "metadata": {},
   "outputs": [
    {
     "name": "stdout",
     "output_type": "stream",
     "text": [
      "['Rahul', 'More', 28, 'rahul.more1@test.com', 'Cricket', 84.5, 'A+ve', 'A+ve', 'A+ve']\n"
     ]
    }
   ],
   "source": [
    "s.append(\"A+ve\")\n",
    "print(s)\n"
   ]
  },
  {
   "cell_type": "markdown",
   "id": "2bc43a7b-f1d9-4d3a-a8d9-83566ec3afef",
   "metadata": {},
   "source": [
    " # Adding mu;tiple elements inside the list\n",
    "List1.merge(lis2)\n",
    "\n",
    "list2 will get added in list 1"
   ]
  },
  {
   "cell_type": "code",
   "execution_count": null,
   "id": "5c8b910c-01a1-452b-8e9a-cc836d18b34c",
   "metadata": {},
   "outputs": [],
   "source": [
    "a [1,2,3,4,5]\n",
    "b [6,7,8,9,10]\n",
    "\n",
    "\n"
   ]
  },
  {
   "cell_type": "code",
   "execution_count": 25,
   "id": "ffaad6eb-8a97-452f-9d11-143583e56493",
   "metadata": {},
   "outputs": [
    {
     "name": "stdout",
     "output_type": "stream",
     "text": [
      "[1, 2, 3, 4, 5]\n"
     ]
    }
   ],
   "source": [
    "print(a)"
   ]
  },
  {
   "cell_type": "code",
   "execution_count": 26,
   "id": "d92ad4a2-cfc4-4914-8d85-ca2127d444ba",
   "metadata": {},
   "outputs": [
    {
     "name": "stdout",
     "output_type": "stream",
     "text": [
      "[6, 7, 8, 9, 10]\n"
     ]
    }
   ],
   "source": [
    "print(b)"
   ]
  },
  {
   "cell_type": "code",
   "execution_count": 29,
   "id": "ddb27c6a-2e87-4e28-8807-48461e5a5c74",
   "metadata": {},
   "outputs": [],
   "source": [
    "a.extend(b)"
   ]
  },
  {
   "cell_type": "code",
   "execution_count": 30,
   "id": "eb8346c4-8203-4935-94a2-5cde2dba8c3a",
   "metadata": {},
   "outputs": [],
   "source": []
  },
  {
   "cell_type": "code",
   "execution_count": 32,
   "id": "81d183c9-2ac7-42db-99e0-3c874d91832e",
   "metadata": {},
   "outputs": [
    {
     "name": "stdout",
     "output_type": "stream",
     "text": [
      "[1, 2, 3, 4, 5, 6, 7, 8, 9, 10, 6, 7, 8, 9, 10, 6, 7, 8, 9, 10, 6, 7, 8, 9, 10]\n"
     ]
    }
   ],
   "source": [
    "print(a)"
   ]
  },
  {
   "cell_type": "code",
   "execution_count": 33,
   "id": "88c78a25-be56-4d1f-883c-aac32c3499a4",
   "metadata": {},
   "outputs": [],
   "source": [
    "c = [1,2,3,4,5]\n",
    "d = [6,7,8,9,10]\n",
    "\n",
    "d.extend(c)\n"
   ]
  },
  {
   "cell_type": "code",
   "execution_count": 34,
   "id": "a00fea40-ee93-46ae-bb0e-96fad63dc815",
   "metadata": {},
   "outputs": [
    {
     "name": "stdout",
     "output_type": "stream",
     "text": [
      "[1, 2, 3, 4, 5]\n"
     ]
    }
   ],
   "source": [
    "print(c)"
   ]
  },
  {
   "cell_type": "code",
   "execution_count": 35,
   "id": "ee3bb6d8-cdaf-4954-9331-749eea683305",
   "metadata": {},
   "outputs": [
    {
     "name": "stdout",
     "output_type": "stream",
     "text": [
      "[6, 7, 8, 9, 10, 1, 2, 3, 4, 5]\n"
     ]
    }
   ],
   "source": [
    "print(d)"
   ]
  },
  {
   "cell_type": "markdown",
   "id": "8d210c71-cd8f-44d4-b998-e9e5fdf0f119",
   "metadata": {},
   "source": [
    "PLus  operator in list will combine two lists\n",
    "+ "
   ]
  },
  {
   "cell_type": "code",
   "execution_count": 36,
   "id": "5ab8df5e-1ba0-4d84-8ef1-dec7c051b15f",
   "metadata": {},
   "outputs": [
    {
     "name": "stdout",
     "output_type": "stream",
     "text": [
      "[12, 13, 14, 15, 18, 19, 20]\n"
     ]
    }
   ],
   "source": [
    "a = [12,13,14,15]\n",
    "b = [18,19,20]\n",
    "c = a+b\n",
    "print (c)"
   ]
  },
  {
   "cell_type": "code",
   "execution_count": 38,
   "id": "5b204d3f-f10c-4415-a2e2-8fa6201b491c",
   "metadata": {},
   "outputs": [
    {
     "name": "stdout",
     "output_type": "stream",
     "text": [
      "[12, 13, 14, 15, 18, 19, 20, 18, 19, 20]\n"
     ]
    }
   ],
   "source": [
    "d=c+b\n",
    "print(d)"
   ]
  },
  {
   "cell_type": "code",
   "execution_count": 39,
   "id": "c065f015-caca-4be2-85e4-c3053fd2b043",
   "metadata": {},
   "outputs": [
    {
     "name": "stdout",
     "output_type": "stream",
     "text": [
      "[1, 2, 3, 4, 1, 2, 3, 4, 1, 2, 3, 4]\n"
     ]
    }
   ],
   "source": [
    "a = [1,2,3,4]\n",
    "print(3*a)"
   ]
  },
  {
   "cell_type": "code",
   "execution_count": 40,
   "id": "66b1c771-df07-40ea-8362-6d8834b5dd89",
   "metadata": {},
   "outputs": [
    {
     "data": {
      "text/plain": [
       "[1, 2, 3, 4, 1, 2, 3, 4]"
      ]
     },
     "execution_count": 40,
     "metadata": {},
     "output_type": "execute_result"
    }
   ],
   "source": [
    "a+a"
   ]
  },
  {
   "cell_type": "code",
   "execution_count": 41,
   "id": "8c896b91-fcb0-4f5c-b795-1450de46c1df",
   "metadata": {},
   "outputs": [
    {
     "name": "stdout",
     "output_type": "stream",
     "text": [
      "[1, 2, 3, 4, 1, 2, 3, 4, 1, 2, 3, 4, 1, 2, 3, 4, 1, 2, 3, 4, 1, 2, 3, 4, 1, 2, 3, 4, 1, 2, 3, 4, 1, 2, 3, 4, 1, 2, 3, 4]\n"
     ]
    }
   ],
   "source": [
    "c = a*10\n",
    "print (c)"
   ]
  },
  {
   "cell_type": "markdown",
   "id": "5b31784e-748c-4539-9e8c-08db121afe12",
   "metadata": {},
   "source": [
    "# count particular elements inside the list\n"
   ]
  },
  {
   "cell_type": "code",
   "execution_count": 47,
   "id": "74315105-d177-47ee-810a-eeff1d16703b",
   "metadata": {},
   "outputs": [
    {
     "name": "stdout",
     "output_type": "stream",
     "text": [
      "['Apples', 'Grapes', 'Bananas', 'Apples', 'Grapes', 'Bananas']\n"
     ]
    }
   ],
   "source": [
    "d = [\"Apples\",\"Grapes\", \"Bananas\",\"Apples\",\"Grapes\",\"Bananas\"]\n",
    "print(d)"
   ]
  },
  {
   "cell_type": "code",
   "execution_count": 45,
   "id": "cd4f275d-27de-4810-a3ad-889a56483e67",
   "metadata": {},
   "outputs": [
    {
     "name": "stdout",
     "output_type": "stream",
     "text": [
      "[12, 13, 14, 15, 18, 19, 20, 18, 19, 20]\n"
     ]
    }
   ],
   "source": [
    "print(d)"
   ]
  },
  {
   "cell_type": "code",
   "execution_count": 49,
   "id": "39c68f44-b737-4a22-9324-1268b6b50e2a",
   "metadata": {},
   "outputs": [
    {
     "data": {
      "text/plain": [
       "2"
      ]
     },
     "execution_count": 49,
     "metadata": {},
     "output_type": "execute_result"
    }
   ],
   "source": [
    "d.count(\"Apples\")"
   ]
  },
  {
   "cell_type": "code",
   "execution_count": 50,
   "id": "5e020c7c-5338-44c3-8786-28132163346a",
   "metadata": {},
   "outputs": [
    {
     "data": {
      "text/plain": [
       "2"
      ]
     },
     "execution_count": 50,
     "metadata": {},
     "output_type": "execute_result"
    }
   ],
   "source": [
    "d.count(\"Bananas\")"
   ]
  },
  {
   "cell_type": "code",
   "execution_count": 51,
   "id": "9107497d-bfb9-4ab8-85e6-7418bbabe62a",
   "metadata": {},
   "outputs": [
    {
     "data": {
      "text/plain": [
       "0"
      ]
     },
     "execution_count": 51,
     "metadata": {},
     "output_type": "execute_result"
    }
   ],
   "source": [
    "d.count(\"Pineapple\")"
   ]
  },
  {
   "cell_type": "markdown",
   "id": "efdec72a-9421-4cb7-8c0e-32bf1666f0ea",
   "metadata": {},
   "source": [
    "# removing the elements from list \n",
    "1. listremove(value) - remove element by value\n",
    "2. list pop(index) - remove element by index"
   ]
  },
  {
   "cell_type": "code",
   "execution_count": 53,
   "id": "8a74748e-c2e1-4184-865f-169268974c71",
   "metadata": {},
   "outputs": [
    {
     "name": "stdout",
     "output_type": "stream",
     "text": [
      "[12, 13, 'Example', 1, 2, 3, 4, 11.5, 'Test']\n"
     ]
    }
   ],
   "source": [
    "a= [12,13, \"Example\", 1,2,3,4,11.5, \"Test\"]\n",
    "print(a)"
   ]
  },
  {
   "cell_type": "code",
   "execution_count": 54,
   "id": "da64e667-f77c-4e3e-ac68-0002cb8b3a0a",
   "metadata": {},
   "outputs": [],
   "source": [
    "a.remove(2)"
   ]
  },
  {
   "cell_type": "code",
   "execution_count": 55,
   "id": "2bf8f449-9935-46c9-aace-e2d6481b248c",
   "metadata": {},
   "outputs": [
    {
     "name": "stdout",
     "output_type": "stream",
     "text": [
      "[12, 13, 'Example', 1, 3, 4, 11.5, 'Test']\n"
     ]
    }
   ],
   "source": [
    "print(a)"
   ]
  },
  {
   "cell_type": "code",
   "execution_count": 56,
   "id": "1ca43860-0a1f-4ea8-aec9-8886a4d14954",
   "metadata": {},
   "outputs": [],
   "source": [
    "a.remove('Example')"
   ]
  },
  {
   "cell_type": "code",
   "execution_count": 57,
   "id": "6a6281c3-d74f-4f98-8d54-1eed760822d0",
   "metadata": {},
   "outputs": [
    {
     "name": "stdout",
     "output_type": "stream",
     "text": [
      "[12, 13, 1, 3, 4, 11.5, 'Test']\n"
     ]
    }
   ],
   "source": [
    "print(a)"
   ]
  },
  {
   "cell_type": "code",
   "execution_count": 58,
   "id": "262913c2-ae8e-4409-8518-8cba904a2386",
   "metadata": {},
   "outputs": [
    {
     "data": {
      "text/plain": [
       "11.5"
      ]
     },
     "execution_count": 58,
     "metadata": {},
     "output_type": "execute_result"
    }
   ],
   "source": [
    "a.pop(5)"
   ]
  },
  {
   "cell_type": "code",
   "execution_count": 59,
   "id": "a5f499ce-9b9b-49bd-b7eb-8c00cad16eec",
   "metadata": {},
   "outputs": [
    {
     "name": "stdout",
     "output_type": "stream",
     "text": [
      "[12, 13, 1, 3, 4, 'Test']\n"
     ]
    }
   ],
   "source": [
    "print(a)"
   ]
  },
  {
   "cell_type": "code",
   "execution_count": null,
   "id": "99c5655a-f3a4-4c21-8cf8-e455da98be1c",
   "metadata": {},
   "outputs": [],
   "source": []
  }
 ],
 "metadata": {
  "kernelspec": {
   "display_name": "Python 3 (ipykernel)",
   "language": "python",
   "name": "python3"
  },
  "language_info": {
   "codemirror_mode": {
    "name": "ipython",
    "version": 3
   },
   "file_extension": ".py",
   "mimetype": "text/x-python",
   "name": "python",
   "nbconvert_exporter": "python",
   "pygments_lexer": "ipython3",
   "version": "3.13.5"
  }
 },
 "nbformat": 4,
 "nbformat_minor": 5
}
